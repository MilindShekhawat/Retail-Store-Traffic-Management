{
 "cells": [
  {
   "cell_type": "code",
   "execution_count": 5,
   "metadata": {},
   "outputs": [],
   "source": [
    "import cv2\n",
    "import mediapipe as mp\n",
    "mp_drawing = mp.solutions.drawing_utils\n",
    "mp_drawing_styles = mp.solutions.drawing_styles\n",
    "mp_pose = mp.solutions.pose"
   ]
  },
  {
   "cell_type": "code",
   "execution_count": 24,
   "metadata": {},
   "outputs": [],
   "source": [
    "capture = cv2.VideoCapture('F:\\Code\\PHP File\\speed.mp4')\n",
    "# MediaPip Instance\n",
    "with mp_pose.Pose(min_detection_confidence=0.5, min_tracking_confidence=0.3) as pose:\n",
    "    # Frame by Frame Video Input\n",
    "    while True:\n",
    "        isTrue, frame = capture.read()\n",
    "\n",
    "        # Image Recolour and performace changes\n",
    "        image.flags.writeable = False\n",
    "        image = cv2.cvtColor(frame, cv2.COLOR_BGR2RGB)\n",
    "\n",
    "        # Image Detection\n",
    "        results = pose.process(image)\n",
    "\n",
    "        # Reverting back to BGR\n",
    "        image.flags.writeable = True\n",
    "        image = cv2.cvtColor(image, cv2.COLOR_RGB2BGR)\n",
    "\n",
    "        # Draw pose on Images\n",
    "        mp_drawing.draw_landmarks(image, results.pose_landmarks, mp_pose.POSE_CONNECTIONS)\n",
    "        #landmark_drawing_spec= mp_drawing_styles.get_default_pose_landmarks_style())\n",
    "\n",
    "        cv2.imshow('Video', image)\n",
    "\n",
    "        if cv2.waitKey(20) & 0xFF == ord('d'):\n",
    "            break\n",
    "        \n",
    "    capture.release()\n",
    "    cv2.destroyAllWindows()"
   ]
  },
  {
   "cell_type": "code",
   "execution_count": null,
   "metadata": {},
   "outputs": [],
   "source": []
  }
 ],
 "metadata": {
  "kernelspec": {
   "display_name": "Python 3.10.8 64-bit (microsoft store)",
   "language": "python",
   "name": "python3"
  },
  "language_info": {
   "codemirror_mode": {
    "name": "ipython",
    "version": 3
   },
   "file_extension": ".py",
   "mimetype": "text/x-python",
   "name": "python",
   "nbconvert_exporter": "python",
   "pygments_lexer": "ipython3",
   "version": "3.10.9"
  },
  "orig_nbformat": 4,
  "vscode": {
   "interpreter": {
    "hash": "c891000b70b99659dec479d17fccab28bacf0eed5e1f4e2eef13ac3dd49defb1"
   }
  }
 },
 "nbformat": 4,
 "nbformat_minor": 2
}
